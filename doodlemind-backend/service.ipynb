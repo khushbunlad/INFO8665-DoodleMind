{
 "cells": [
  {
   "cell_type": "code",
   "execution_count": 5,
   "metadata": {},
   "outputs": [
    {
     "name": "stdout",
     "output_type": "stream",
     "text": [
      "Status Code: 200\n",
      "Response Text: ML Service is running\n"
     ]
    }
   ],
   "source": [
    "import requests\n",
    "import subprocess\n",
    "import time\n",
    "\n",
    "server_process = subprocess.Popen([\"python\", \"ml_service.py\"])\n",
    "\n",
    "time.sleep(2)\n",
    "\n",
    "# Send GET request to the service endpoint\n",
    "response = requests.get(\"http://127.0.0.1:5002/service\")\n",
    "\n",
    "print(f\"Status Code: {response.status_code}\")\n",
    "print(f\"Response Text: {response.text}\")\n",
    "\n",
    "# Stop the server by terminating the process\n",
    "server_process.terminate()\n"
   ]
  }
 ],
 "metadata": {
  "kernelspec": {
   "display_name": "Python 3",
   "language": "python",
   "name": "python3"
  },
  "language_info": {
   "codemirror_mode": {
    "name": "ipython",
    "version": 3
   },
   "file_extension": ".py",
   "mimetype": "text/x-python",
   "name": "python",
   "nbconvert_exporter": "python",
   "pygments_lexer": "ipython3",
   "version": "3.11.9"
  }
 },
 "nbformat": 4,
 "nbformat_minor": 2
}
